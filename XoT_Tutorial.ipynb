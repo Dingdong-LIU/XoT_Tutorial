{
 "cells": [
  {
   "cell_type": "code",
   "execution_count": 1,
   "metadata": {},
   "outputs": [],
   "source": [
    "%load_ext autoreload\n",
    "%autoreload 2"
   ]
  },
  {
   "cell_type": "markdown",
   "metadata": {},
   "source": [
    "# XoT Tutorial"
   ]
  },
  {
   "cell_type": "markdown",
   "metadata": {},
   "source": [
    "Import OpenAI model with langchain."
   ]
  },
  {
   "cell_type": "code",
   "execution_count": 2,
   "metadata": {},
   "outputs": [],
   "source": [
    "import os\n",
    "from dotenv import load_dotenv\n",
    "\n",
    "import langchain\n",
    "from langchain_openai import AzureChatOpenAI\n",
    "\n",
    "from langchain.globals import set_llm_cache\n",
    "from langchain.cache import SQLiteCache\n",
    "\n",
    "set_llm_cache(SQLiteCache(database_path=\".langchain_cache.db\"))\n",
    "\n",
    "langchain.debug = False  # set verbose mode to True\n",
    "\n",
    "load_dotenv()\n",
    "\n",
    "langchain_llm = AzureChatOpenAI(\n",
    "    azure_endpoint=os.getenv(\"HKUST_OPENAI_BASE\"),\n",
    "    api_key=os.getenv(\"HKUST_OPENAI_KEY\"),\n",
    "    api_version=os.getenv(\"HKUST_OPENAI_API_VERSION\"),\n",
    "    openai_api_type=\"azure\",\n",
    "    azure_deployment=os.getenv(\"HKUST_OPENAI_DEPLOYMENT_NAME\"),\n",
    "    verbose=True,\n",
    ")"
   ]
  },
  {
   "cell_type": "code",
   "execution_count": 3,
   "metadata": {},
   "outputs": [
    {
     "data": {
      "text/plain": [
       "AIMessage(content='LLM stands for Master of Laws. It is an advanced, postgraduate academic degree, pursued by those either holding an undergraduate academic law degree, a professional law degree, or an undergraduate degree in a related subject.', response_metadata={'token_usage': {'completion_tokens': 43, 'prompt_tokens': 12, 'total_tokens': 55}, 'model_name': 'gpt-4', 'system_fingerprint': None, 'prompt_filter_results': [{'prompt_index': 0, 'content_filter_results': {'hate': {'filtered': False, 'severity': 'safe'}, 'self_harm': {'filtered': False, 'severity': 'safe'}, 'sexual': {'filtered': False, 'severity': 'safe'}, 'violence': {'filtered': False, 'severity': 'safe'}}}], 'finish_reason': 'stop', 'logprobs': None, 'content_filter_results': {'hate': {'filtered': False, 'severity': 'safe'}, 'self_harm': {'filtered': False, 'severity': 'safe'}, 'sexual': {'filtered': False, 'severity': 'safe'}, 'violence': {'filtered': False, 'severity': 'safe'}}}, id='run-f2e02f5c-06bf-4f51-a5b2-8e505a90f95f-0')"
      ]
     },
     "execution_count": 3,
     "metadata": {},
     "output_type": "execute_result"
    }
   ],
   "source": [
    "langchain_llm.invoke(\"What is LLM?\")"
   ]
  },
  {
   "cell_type": "markdown",
   "metadata": {
    "vscode": {
     "languageId": "plaintext"
    }
   },
   "source": [
    "## Direct Use of LLM\n",
    "\n",
    "* Practice the use of LLM with langchain.\n",
    "* Intent classifier: does the user want to have its tablet repaired?"
   ]
  },
  {
   "cell_type": "code",
   "execution_count": 4,
   "metadata": {},
   "outputs": [],
   "source": [
    "from langchain_core.prompts import PromptTemplate\n",
    "from langchain_core.output_parsers import JsonOutputParser\n",
    "from langchain_core.pydantic_v1 import BaseModel, Field\n",
    "\n",
    "intent_classifier_template = \"\"\"\n",
    "You are a customer service chatbot help to decide if the user want to repair its device. Base on the user's description, reply \"Yes\" if the user want to repair the device, \"No\" if the user do not want to repair the device, and \"End\" if the user want to end the conversation.\n",
    "\n",
    "{format_instructions}\n",
    "\n",
    "The user's input is: {user_input}\n",
    "\"\"\"\n",
    "\n",
    "\n",
    "class Intent(BaseModel):\n",
    "    want_to_repair: str = Field(\n",
    "        description=\"whether the user want to repair the device\", example=\"Yes\"\n",
    "    )\n",
    "\n",
    "\n",
    "intent_classifier_parser = JsonOutputParser(pydantic_object=Intent)\n",
    "\n",
    "intent_classifier_prompt = PromptTemplate(\n",
    "    template=intent_classifier_template,\n",
    "    input_variables=[\"user_input\"],\n",
    "    partial_variables={\n",
    "        \"format_instructions\": intent_classifier_parser.get_format_instructions()\n",
    "    },\n",
    ")\n",
    "\n",
    "intent_classifier_chain = (\n",
    "    intent_classifier_prompt | langchain_llm | intent_classifier_parser\n",
    ")"
   ]
  },
  {
   "cell_type": "code",
   "execution_count": 5,
   "metadata": {},
   "outputs": [
    {
     "data": {
      "text/plain": [
       "{'want_to_repair': 'Yes'}"
      ]
     },
     "execution_count": 5,
     "metadata": {},
     "output_type": "execute_result"
    }
   ],
   "source": [
    "intent_classifier_chain.invoke(\n",
    "    {\"user_input\": \"My ipad cannot connect to bluetooth, I'm here to get some support.\"}\n",
    ")"
   ]
  },
  {
   "cell_type": "markdown",
   "metadata": {},
   "source": [
    "## Chain of Thoughts Prompting\n",
    "\n",
    "* Practice the use of CoT with langchain.\n",
    "* Use warranty checker as an example."
   ]
  },
  {
   "cell_type": "code",
   "execution_count": 6,
   "metadata": {},
   "outputs": [],
   "source": [
    "# Make a parser for the response\n",
    "class Warranty(BaseModel):\n",
    "    Analysis: str = Field(description=\"AI's analysis of the current situation\")\n",
    "    Warranty: str = Field(description=\"Whether the use's product have a warranty\")\n",
    "    Utterance: str = Field(description=\"AI's response to the user\")\n",
    "\n",
    "warranty_parser = JsonOutputParser(pydantic_object=Warranty)"
   ]
  },
  {
   "cell_type": "code",
   "execution_count": 7,
   "metadata": {},
   "outputs": [],
   "source": [
    "from langchain_core.prompts import (\n",
    "    ChatPromptTemplate,\n",
    "    HumanMessagePromptTemplate,\n",
    "    FewShotChatMessagePromptTemplate,\n",
    ")\n",
    "from langchain_core.messages import SystemMessage\n",
    "\n",
    "warranty_checker_examples = [\n",
    "    {\n",
    "        \"ai_question\": \"When did you purchase this item?\",\n",
    "        \"human_response\": \"A month ago\",\n",
    "        \"ai_response\": \"Analysis: Let's think step by step. All products come with a 90-day warranty since purchase. A month is within the 90-day time span. The product must have warranty. Warranty: Yes. Utterance: Great! Your product has warranty.\",\n",
    "    },\n",
    "    {\n",
    "        \"ai_question\": \"When did you purchase this item?\",\n",
    "        \"human_response\": \"Last year.\",\n",
    "        \"ai_response\": \"Analysis: Let's think step by step. All products come with a 90-day warranty. A year is more than this time span. However, we are not sure if the user purchased additional warranty. We are not sure if the product has warranty. Warranty: Unsure. Utterance: Did you purchase additional warranty?\",\n",
    "    },\n",
    "]\n",
    "\n",
    "warranty_checker_example_template = ChatPromptTemplate.from_messages(\n",
    "    [\n",
    "        (\"ai\", \"{ai_question}\"),\n",
    "        (\"human\", \"{human_response}\"),\n",
    "        (\"ai\", \"{ai_response}\"),\n",
    "    ]\n",
    ")\n",
    "\n",
    "warranty_checker_fewshot_examples = FewShotChatMessagePromptTemplate(\n",
    "    example_prompt=warranty_checker_example_template,\n",
    "    examples=warranty_checker_examples,\n",
    ")\n",
    "\n",
    "\n",
    "warranty_checker_prompt = ChatPromptTemplate.from_messages(\n",
    "    [\n",
    "        SystemMessage(\n",
    "            content=\"You are a helpful agent that help to decide if a product is out of warranty. Note that all product come with a 90-day warranty since purchase. Customer can also purchase additional warranty that extends it to 2 years. Today is May 20th, 2024.\"\n",
    "        ),\n",
    "        warranty_checker_fewshot_examples,\n",
    "        HumanMessagePromptTemplate(\n",
    "            prompt=PromptTemplate(\n",
    "                template=\"{user_input}\\n{format_instructions}\",\n",
    "                input_variables=[\"user_input\"],\n",
    "                partial_variables={\"format_instructions\": warranty_parser.get_format_instructions()},\n",
    "            )\n",
    "        ),\n",
    "    ]\n",
    ")\n",
    "\n",
    "warranty_checker_chain = warranty_checker_prompt | langchain_llm"
   ]
  },
  {
   "cell_type": "code",
   "execution_count": 8,
   "metadata": {},
   "outputs": [
    {
     "data": {
      "text/plain": [
       "{'Analysis': \"The product was purchased on May 1st, 2023. This means the product is now just over a year old. The standard warranty of 90 days has certainly expired, but we don't know about the extended warranty.\",\n",
       " 'Warranty': 'Unsure',\n",
       " 'Utterance': 'Your standard 90-day warranty has expired as you purchased the product over a year ago. However, if you purchased an additional warranty that extends to 2 years, your product might still be covered. Can you please confirm if you purchased the additional warranty?'}"
      ]
     },
     "execution_count": 8,
     "metadata": {},
     "output_type": "execute_result"
    }
   ],
   "source": [
    "output = warranty_checker_chain.invoke({\"user_input\": \"I bought this item on May 1st, 2023.\"})\n",
    "warranty_parser.invoke(output)\n"
   ]
  },
  {
   "cell_type": "markdown",
   "metadata": {},
   "source": [
    "## Tree of thoughts\n",
    "\n",
    "* We use tree of thoughts to practice repair plan suggestion. Users need to choose from repair, replace and trade-in options. \n",
    "* "
   ]
  },
  {
   "cell_type": "code",
   "execution_count": null,
   "metadata": {},
   "outputs": [],
   "source": []
  },
  {
   "cell_type": "code",
   "execution_count": null,
   "metadata": {},
   "outputs": [],
   "source": []
  },
  {
   "cell_type": "code",
   "execution_count": null,
   "metadata": {},
   "outputs": [],
   "source": []
  }
 ],
 "metadata": {
  "kernelspec": {
   "display_name": "xot_tutorial",
   "language": "python",
   "name": "python3"
  },
  "language_info": {
   "codemirror_mode": {
    "name": "ipython",
    "version": 3
   },
   "file_extension": ".py",
   "mimetype": "text/x-python",
   "name": "python",
   "nbconvert_exporter": "python",
   "pygments_lexer": "ipython3",
   "version": "3.12.3"
  }
 },
 "nbformat": 4,
 "nbformat_minor": 2
}
