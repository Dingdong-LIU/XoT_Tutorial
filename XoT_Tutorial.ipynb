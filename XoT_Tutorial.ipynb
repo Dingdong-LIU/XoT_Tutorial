{
 "cells": [
  {
   "cell_type": "markdown",
   "metadata": {},
   "source": [
    "# XoT Tutorial"
   ]
  },
  {
   "cell_type": "code",
   "execution_count": 1,
   "metadata": {},
   "outputs": [],
   "source": [
    "%load_ext autoreload\n",
    "%autoreload 2"
   ]
  },
  {
   "cell_type": "markdown",
   "metadata": {},
   "source": [
    "## Prepare your OpenAI GPT Model\n",
    "\n",
    "Import OpenAI model with langchain."
   ]
  },
  {
   "cell_type": "code",
   "execution_count": 2,
   "metadata": {},
   "outputs": [],
   "source": [
    "import os\n",
    "from dotenv import load_dotenv\n",
    "\n",
    "import langchain\n",
    "from langchain_openai import AzureChatOpenAI, ChatOpenAI\n",
    "\n",
    "from langchain.globals import set_llm_cache\n",
    "from langchain.cache import SQLiteCache\n",
    "\n",
    "set_llm_cache(\n",
    "    SQLiteCache(database_path=\".langchain_cache.db\")\n",
    ")  # setup cache for the LLM\n",
    "\n",
    "langchain.debug = False  # set verbose mode to True to show more execution details\n",
    "\n",
    "load_dotenv()\n",
    "\n",
    "# Use Azure's models\n",
    "langchain_llm = AzureChatOpenAI(\n",
    "    azure_endpoint=os.getenv(\"MY_AZURE_ENDPOINT\"),\n",
    "    api_key=os.getenv(\"MY_AZURE_API_KEY\"),\n",
    "    api_version=os.getenv(\"MY_AZURE_API_VERSION\"),\n",
    "    azure_deployment=os.getenv(\"MY_AZURE_DEPLOYMENT_NAME\"),\n",
    "    verbose=True,\n",
    ")\n",
    "\n",
    "# Or use OpenAI's model\n",
    "langchain_llm = ChatOpenAI(\n",
    "    base_url=os.getenv(\"MY_OPENAI_API_BASE\"),\n",
    "    api_key=os.getenv(\"MY_OPENAI_API_KEY\"),\n",
    "    model=\"gpt-4o\",\n",
    "    verbose=True,\n",
    ")"
   ]
  },
  {
   "cell_type": "code",
   "execution_count": null,
   "metadata": {},
   "outputs": [],
   "source": [
    "# a debug line to show you have the correct model setup\n",
    "langchain_llm.invoke(\"What is LLM?\")"
   ]
  },
  {
   "cell_type": "markdown",
   "metadata": {
    "vscode": {
     "languageId": "plaintext"
    }
   },
   "source": [
    "## Direct Use of LLM\n",
    "\n",
    "* Practice the use of LLM with langchain.\n",
    "* Intent classifier: does the user want to have its tablet repaired?"
   ]
  },
  {
   "cell_type": "code",
   "execution_count": null,
   "metadata": {},
   "outputs": [],
   "source": [
    "from utils.intent_classifier import intent_classifier_prompt, intent_classifier_parser\n",
    "\n",
    "intent_classifier_chain = (\n",
    "    intent_classifier_prompt | langchain_llm | intent_classifier_parser\n",
    ")"
   ]
  },
  {
   "cell_type": "code",
   "execution_count": null,
   "metadata": {},
   "outputs": [],
   "source": [
    "prompt = intent_classifier_prompt.invoke({\"user_input\": \"My ipad cannot connect to bluetooth, I'm here to get some support.\"})\n",
    "output = langchain_llm.invoke(prompt)\n",
    "intent_classifier_parser.invoke(output)"
   ]
  },
  {
   "cell_type": "code",
   "execution_count": null,
   "metadata": {},
   "outputs": [],
   "source": [
    "intent_classifier_chain.invoke(\n",
    "    {\"user_input\": \"My ipad cannot connect to bluetooth, I'm here to get some support.\"}\n",
    ")"
   ]
  },
  {
   "cell_type": "markdown",
   "metadata": {},
   "source": [
    "## Chain of Thoughts Prompting\n",
    "\n",
    "* Practice the use of CoT with langchain.\n",
    "* Use warranty checker as an example."
   ]
  },
  {
   "cell_type": "code",
   "execution_count": null,
   "metadata": {},
   "outputs": [],
   "source": [
    "from utils.warranty_module import warranty_parser, warranty_checker_prompt\n",
    "\n",
    "\n",
    "warranty_checker_chain = warranty_checker_prompt | langchain_llm"
   ]
  },
  {
   "cell_type": "code",
   "execution_count": null,
   "metadata": {},
   "outputs": [],
   "source": [
    "warranty_checker_prompt.invoke({\"user_input\": \"I want to check my warranty status.\"}).to_messages()"
   ]
  },
  {
   "cell_type": "code",
   "execution_count": null,
   "metadata": {},
   "outputs": [],
   "source": [
    "output = warranty_checker_chain.invoke({\"user_input\": \"I bought this item on May 1st, 2023.\"})\n",
    "warranty_parser.invoke(output)"
   ]
  },
  {
   "cell_type": "markdown",
   "metadata": {},
   "source": [
    "## Tree of thoughts\n",
    "\n",
    "* We use tree of thoughts to practice repair plan suggestion. Available plans are repair, replace and trade-in options. \n",
    "* "
   ]
  },
  {
   "cell_type": "code",
   "execution_count": null,
   "metadata": {},
   "outputs": [],
   "source": [
    "from utils.repair_strategy import repair_strategy_prompt, repair_parser\n",
    "from utils.replace_strategy import replacement_strategy_prompt, replacement_parser\n",
    "from utils.tradein_strategy import tradein_strategy_prompt, tradein_parser\n",
    "\n",
    "repair_strategy_chain = repair_strategy_prompt | langchain_llm\n",
    "replacement_strategy_chain = replacement_strategy_prompt | langchain_llm\n",
    "tradein_strategy_chain = tradein_strategy_prompt | langchain_llm"
   ]
  },
  {
   "cell_type": "code",
   "execution_count": null,
   "metadata": {},
   "outputs": [],
   "source": [
    "repair_strategy_chain.invoke(\n",
    "    {\"user_input\": \"I want to repair my device. The screen and the battery are broken.\"}\n",
    ")\n",
    "repair_parser.invoke(\n",
    "    repair_strategy_chain.invoke(\n",
    "        {\n",
    "            \"user_input\": \"I want to repair my device. The screen and the battery are broken.\"\n",
    "        }\n",
    "    )\n",
    ")"
   ]
  },
  {
   "cell_type": "code",
   "execution_count": null,
   "metadata": {},
   "outputs": [],
   "source": [
    "tradein_strategy_chain.invoke(\n",
    "    {\"user_input\": \"I want to trade in my device. The keyboard is not working\"}\n",
    ")\n",
    "tradein_parser.invoke(\n",
    "    tradein_strategy_chain.invoke(\n",
    "        {\"user_input\": \"I want to trade in my device. The keyboard is not working\"}\n",
    "    )\n",
    ")"
   ]
  },
  {
   "cell_type": "code",
   "execution_count": null,
   "metadata": {},
   "outputs": [],
   "source": [
    "replacement_strategy_chain.invoke({\"user_input\": \"The screen is broken, I want to replace it.\", \"additional_info\": \"No warranty\"})\n",
    "replacement_parser.invoke(replacement_strategy_chain.invoke({\"user_input\": \"The screen is broken, I want to replace it.\", \"additional_info\": \"No warranty\"}))"
   ]
  },
  {
   "cell_type": "code",
   "execution_count": null,
   "metadata": {},
   "outputs": [],
   "source": [
    "from utils.plan_selection import plan_selection_prompt, plan_parser\n",
    "\n",
    "plan_evaluater_chain = plan_selection_prompt | langchain_llm"
   ]
  },
  {
   "cell_type": "code",
   "execution_count": null,
   "metadata": {},
   "outputs": [],
   "source": [
    "plan_evaluater_chain.invoke(\n",
    "    {\n",
    "        \"replace_plan\": \"I'm sorry, but you cannot get a replacement. Only products with warranty can be replaced.\",\n",
    "        \"repair_plan\": \"The total cost to fix the product is 150 USD.\",\n",
    "        \"tradein_plan\": \"You can get a 100 USD coupon if you want to trade in your old device for a new one.\",\n",
    "        \"user_preference\": \"None\",\n",
    "        \"selected_plan\": \"repair\",\n",
    "        \"ai_analysis\": \"Let's thing step by step. The cost for a new device is 249 USD, the user can get a coupon so he will spend 149 USD for the new device. The cost for fixing the old device is 150 USD. Therefore, it is better to buy a new device as the cost is almost the same.\",\n",
    "        \"ai_response\": \"Maybe you should consider buying a new device instead of fixing the old one. The cost for fixing the old device is 150 USD, and the cost for a new device is 249 USD. You can get a 100 USD coupon if you want to trade in your old device for a new one. The total cost to fix the product is 150 USD.\",\n",
    "    }\n",
    ")\n",
    "plan_parser.invoke(\n",
    "    plan_evaluater_chain.invoke(\n",
    "        {\n",
    "            \"replace_plan\": \"Your device can be replaced.\",\n",
    "            \"repair_plan\": \"The total cost to fix the product is 150 USD.\",\n",
    "            \"tradein_plan\": \"You can get a 100 USD coupon if you want to trade in your old device for a new one.\",\n",
    "            \"user_preference\": \"None\",\n",
    "        }\n",
    "    )\n",
    ")"
   ]
  },
  {
   "cell_type": "code",
   "execution_count": null,
   "metadata": {},
   "outputs": [],
   "source": [
    "from langchain_core.runnables import RunnableParallel\n",
    "\n",
    "# The tot structure\n",
    "repair_strategy_chain = repair_strategy_prompt | langchain_llm | repair_parser\n",
    "replacement_strategy_chain = (\n",
    "    replacement_strategy_prompt | langchain_llm | replacement_parser\n",
    ")\n",
    "tradein_strategy_chain = tradein_strategy_prompt | langchain_llm | tradein_parser\n",
    "\n",
    "tot_generater = RunnableParallel(repair_plan = repair_strategy_chain, replace_plan = replacement_strategy_chain, tradein_plan = tradein_strategy_chain)\n",
    "\n",
    "plan_output = tot_generater.invoke({\n",
    "    \"user_input\": \"The screen is broken, I want to replace it.\",\n",
    "    \"additional_info\": \"No warranty\"\n",
    "})\n",
    "\n",
    "tot_scorer = plan_selection_prompt | langchain_llm | plan_parser\n",
    "\n",
    "tot_scorer.invoke({\n",
    "    \"replace_plan\": plan_output[\"replace_plan\"][\"Utterance\"],\n",
    "    \"repair_plan\": plan_output[\"repair_plan\"][\"Utterance\"],\n",
    "    \"tradein_plan\": plan_output[\"tradein_plan\"][\"Utterance\"],\n",
    "    \"user_preference\": \"None\",\n",
    "})"
   ]
  },
  {
   "cell_type": "markdown",
   "metadata": {},
   "source": [
    "## GoT structure\n",
    "\n",
    "* Break down the repair plan\n",
    "* The information needed are warranty status, broken places, and the user's preference on whether to get a new device or not.\n"
   ]
  },
  {
   "cell_type": "code",
   "execution_count": null,
   "metadata": {},
   "outputs": [],
   "source": [
    "# upon receiving user input, all nodes will update its internal state\n",
    "from utils.techissue_analyser import tech_issue_analyser_prompt, tech_issue_analyser_parser\n",
    "\n",
    "tech_issue_analyser_chain = tech_issue_analyser_prompt | langchain_llm | tech_issue_analyser_parser"
   ]
  },
  {
   "cell_type": "code",
   "execution_count": null,
   "metadata": {},
   "outputs": [],
   "source": [
    "tech_issue_analyser_chain.invoke(\n",
    "    {\n",
    "        \"chat_history\": \"I bought this item on May 1st, 2023. \\n The screen is broken, I want to replace it. \\n It does not charge at the moment\",\n",
    "        \"user_input\": \"Please help.\"\n",
    "    }\n",
    ")"
   ]
  },
  {
   "cell_type": "code",
   "execution_count": null,
   "metadata": {},
   "outputs": [],
   "source": [
    "warranty_checker_fullchain = warranty_checker_prompt | langchain_llm | warranty_parser\n",
    "warranty_checker_fullchain.invoke({\"user_input\": \"I bought this item on May 1st, 2023.\"})"
   ]
  },
  {
   "cell_type": "code",
   "execution_count": null,
   "metadata": {},
   "outputs": [],
   "source": [
    "# A simple GoT Prompter: decide what question to ask based on the required information.\n",
    "from utils.question_generator import question_generator_prompt, question_generator_parser # The parser\n",
    "\n",
    "question_generator_chain = question_generator_prompt | langchain_llm | question_generator_parser\n",
    "\n",
    "question_generator_chain.invoke(\n",
    "    {\n",
    "        \"required_information\": \"preference (how much repair fee can afford?)\"\n",
    "    }\n",
    ")\n",
    "\n",
    "# A simple GoT Controller: ask twice for the required information, and then generate a plan\n",
    "# See the chatbot\n"
   ]
  },
  {
   "cell_type": "code",
   "execution_count": null,
   "metadata": {},
   "outputs": [],
   "source": [
    "from chatbot import Chatbot\n",
    "\n",
    "customer_chatbot = Chatbot()"
   ]
  },
  {
   "cell_type": "code",
   "execution_count": null,
   "metadata": {},
   "outputs": [],
   "source": [
    "customer_chatbot.interact(\"hello\")"
   ]
  },
  {
   "cell_type": "code",
   "execution_count": null,
   "metadata": {},
   "outputs": [],
   "source": [
    "customer_chatbot.interact(\"I want to repair my tablet\")"
   ]
  },
  {
   "cell_type": "code",
   "execution_count": null,
   "metadata": {},
   "outputs": [],
   "source": [
    "customer_chatbot.interact(\"Yeah, the screen is always black and there is no audio\")"
   ]
  },
  {
   "cell_type": "code",
   "execution_count": null,
   "metadata": {},
   "outputs": [],
   "source": []
  }
 ],
 "metadata": {
  "kernelspec": {
   "display_name": "xot_tutorial",
   "language": "python",
   "name": "python3"
  },
  "language_info": {
   "codemirror_mode": {
    "name": "ipython",
    "version": 3
   },
   "file_extension": ".py",
   "mimetype": "text/x-python",
   "name": "python",
   "nbconvert_exporter": "python",
   "pygments_lexer": "ipython3",
   "version": "3.12.3"
  }
 },
 "nbformat": 4,
 "nbformat_minor": 2
}
