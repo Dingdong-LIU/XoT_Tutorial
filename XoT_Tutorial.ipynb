{
 "cells": [
  {
   "cell_type": "code",
   "execution_count": 1,
   "metadata": {},
   "outputs": [],
   "source": [
    "%load_ext autoreload\n",
    "%autoreload 2"
   ]
  },
  {
   "cell_type": "markdown",
   "metadata": {},
   "source": [
    "# XoT Tutorial"
   ]
  },
  {
   "cell_type": "markdown",
   "metadata": {},
   "source": [
    "Import OpenAI model with langchain."
   ]
  },
  {
   "cell_type": "code",
   "execution_count": 2,
   "metadata": {},
   "outputs": [],
   "source": [
    "import os\n",
    "from dotenv import load_dotenv\n",
    "\n",
    "import langchain\n",
    "from langchain_openai import AzureChatOpenAI, ChatOpenAI\n",
    "\n",
    "from langchain.globals import set_llm_cache\n",
    "from langchain.cache import SQLiteCache\n",
    "\n",
    "set_llm_cache(SQLiteCache(database_path=\".langchain_cache.db\"))\n",
    "\n",
    "langchain.debug = False  # set verbose mode to True\n",
    "\n",
    "load_dotenv()\n",
    "\n",
    "langchain_llm = AzureChatOpenAI(\n",
    "    azure_endpoint=os.getenv(\"HKUST_OPENAI_BASE\"),\n",
    "    api_key=os.getenv(\"HKUST_OPENAI_KEY\"),\n",
    "    api_version=os.getenv(\"HKUST_OPENAI_API_VERSION\"),\n",
    "    openai_api_type=\"azure\",\n",
    "    azure_deployment=os.getenv(\"HKUST_OPENAI_DEPLOYMENT_NAME\"),\n",
    "    verbose=True,\n",
    ")\n",
    "\n",
    "# Or use openai's model\n",
    "langchain_llm = ChatOpenAI(\n",
    "    base_url=os.getenv(\"VENDER_BASE_URL\"),\n",
    "    api_key=os.getenv(\"VENDER_API_KEY\"),\n",
    "    model=\"gpt-4o\",\n",
    "    verbose=True,\n",
    ")"
   ]
  },
  {
   "cell_type": "code",
   "execution_count": 3,
   "metadata": {},
   "outputs": [
    {
     "data": {
      "text/plain": [
       "AIMessage(content=\"LLM can refer to a few different things depending on the context:\\n\\n1. **Master of Laws (LL.M.)**: This is an advanced, postgraduate academic degree in law. Individuals who have already completed their initial law degree (such as a JD or LLB) often pursue an LL.M. to gain specialized knowledge in a particular area of law, such as international law, tax law, or human rights law.\\n\\n2. **Large Language Model**: In the context of artificial intelligence and machine learning, LLM refers to a type of neural network model that is trained on large amounts of text data to understand and generate human-like text. Examples include OpenAI's GPT-3, which is used in applications like language translation, text summarization, and conversational agents.\\n\\n3. **Landlord and Tenant Law (LLM)**: In some jurisdictions, LLM is used as an abbreviation for specific legal frameworks or courses related to landlord and tenant law.\\n\\nThe meaning of LLM will depend on the context in which it is used.\", response_metadata={'token_usage': {'completion_tokens': 209, 'prompt_tokens': 12, 'total_tokens': 221}, 'model_name': 'gpt-4o', 'system_fingerprint': 'fp_43dfabdef1', 'finish_reason': 'stop', 'logprobs': None}, id='run-b981d6b7-f469-4d0e-b80f-9c1f440f898b-0')"
      ]
     },
     "execution_count": 3,
     "metadata": {},
     "output_type": "execute_result"
    }
   ],
   "source": [
    "# a debug line to show you have the correct model setup\n",
    "langchain_llm.invoke(\"What is LLM?\")"
   ]
  },
  {
   "cell_type": "markdown",
   "metadata": {
    "vscode": {
     "languageId": "plaintext"
    }
   },
   "source": [
    "## Direct Use of LLM\n",
    "\n",
    "* Practice the use of LLM with langchain.\n",
    "* Intent classifier: does the user want to have its tablet repaired?"
   ]
  },
  {
   "cell_type": "code",
   "execution_count": 4,
   "metadata": {},
   "outputs": [],
   "source": [
    "from utils.intent_classifier import intent_classifier_prompt, intent_classifier_parser\n",
    "\n",
    "intent_classifier_chain = (\n",
    "    intent_classifier_prompt | langchain_llm | intent_classifier_parser\n",
    ")"
   ]
  },
  {
   "cell_type": "code",
   "execution_count": 5,
   "metadata": {},
   "outputs": [
    {
     "data": {
      "text/plain": [
       "{'want_to_repair': 'Yes'}"
      ]
     },
     "execution_count": 5,
     "metadata": {},
     "output_type": "execute_result"
    }
   ],
   "source": [
    "intent_classifier_chain.invoke(\n",
    "    {\"user_input\": \"My ipad cannot connect to bluetooth, I'm here to get some support.\"}\n",
    ")"
   ]
  },
  {
   "cell_type": "markdown",
   "metadata": {},
   "source": [
    "## Chain of Thoughts Prompting\n",
    "\n",
    "* Practice the use of CoT with langchain.\n",
    "* Use warranty checker as an example."
   ]
  },
  {
   "cell_type": "code",
   "execution_count": 6,
   "metadata": {},
   "outputs": [],
   "source": [
    "from utils.warranty_module import warranty_parser, warranty_checker_prompt\n",
    "\n",
    "\n",
    "warranty_checker_chain = warranty_checker_prompt | langchain_llm"
   ]
  },
  {
   "cell_type": "code",
   "execution_count": 7,
   "metadata": {},
   "outputs": [
    {
     "data": {
      "text/plain": [
       "{'Analysis': \"Let's think step by step. All products come with a 90-day warranty since purchase. Since the item was purchased on May 1st, 2023, the 90-day warranty would have expired on July 30th, 2023. Given today's date is May 20th, 2024, the standard warranty has expired. However, if an additional 2-year warranty was purchased, it would still be valid until May 1st, 2025.\",\n",
       " 'Warranty': 'Unsure',\n",
       " 'Utterance': 'Did you purchase additional warranty?'}"
      ]
     },
     "execution_count": 7,
     "metadata": {},
     "output_type": "execute_result"
    }
   ],
   "source": [
    "output = warranty_checker_chain.invoke({\"user_input\": \"I bought this item on May 1st, 2023.\"})\n",
    "warranty_parser.invoke(output)"
   ]
  },
  {
   "cell_type": "markdown",
   "metadata": {},
   "source": [
    "## Tree of thoughts\n",
    "\n",
    "* We use tree of thoughts to practice repair plan suggestion. Available plans are repair, replace and trade-in options. \n",
    "* "
   ]
  },
  {
   "cell_type": "code",
   "execution_count": 8,
   "metadata": {},
   "outputs": [],
   "source": [
    "from utils.repair_strategy import repair_strategy_prompt, repair_parser\n",
    "from utils.replace_strategy import replacement_strategy_prompt, replacement_parser\n",
    "from utils.tradein_strategy import tradein_strategy_prompt, tradein_parser\n",
    "\n",
    "repair_strategy_chain = repair_strategy_prompt | langchain_llm\n",
    "replacement_strategy_chain = replacement_strategy_prompt | langchain_llm\n",
    "tradein_strategy_chain = tradein_strategy_prompt | langchain_llm"
   ]
  },
  {
   "cell_type": "code",
   "execution_count": 9,
   "metadata": {},
   "outputs": [
    {
     "data": {
      "text/plain": [
       "{'Analysis': \"Let's think step by step. The cost for fixing the screen is 120 USD, and the cost for fixing the battery is 30 USD. The total cost is 150 USD.\",\n",
       " 'Cost': '150 USD',\n",
       " 'Utterance': 'The total cost to fix the product is 150 USD.'}"
      ]
     },
     "execution_count": 9,
     "metadata": {},
     "output_type": "execute_result"
    }
   ],
   "source": [
    "repair_strategy_chain.invoke(\n",
    "    {\"user_input\": \"I want to repair my device. The screen and the battery are broken.\"}\n",
    ")\n",
    "repair_parser.invoke(\n",
    "    repair_strategy_chain.invoke(\n",
    "        {\n",
    "            \"user_input\": \"I want to repair my device. The screen and the battery are broken.\"\n",
    "        }\n",
    "    )\n",
    ")"
   ]
  },
  {
   "cell_type": "code",
   "execution_count": 10,
   "metadata": {},
   "outputs": [
    {
     "data": {
      "text/plain": [
       "{'Analysis': 'The user has a minor issue with the keyboard not working. The user will get a 100 USD coupon.',\n",
       " 'Coupon': '100 USD',\n",
       " 'Utterance': 'You can get a 100 USD coupon if you want to trade in your old device for a new one.'}"
      ]
     },
     "execution_count": 10,
     "metadata": {},
     "output_type": "execute_result"
    }
   ],
   "source": [
    "tradein_strategy_chain.invoke(\n",
    "    {\"user_input\": \"I want to trade in my device. The keyboard is not working\"}\n",
    ")\n",
    "tradein_parser.invoke(\n",
    "    tradein_strategy_chain.invoke(\n",
    "        {\"user_input\": \"I want to trade in my device. The keyboard is not working\"}\n",
    "    )\n",
    ")"
   ]
  },
  {
   "cell_type": "code",
   "execution_count": 11,
   "metadata": {},
   "outputs": [
    {
     "data": {
      "text/plain": [
       "{'Analysis': 'The user does not have a warranty, so they cannot get a replacement.',\n",
       " 'Valid': 'No',\n",
       " 'Utterance': \"I'm sorry, but you cannot get a replacement. Only products with a warranty can be replaced.\"}"
      ]
     },
     "execution_count": 11,
     "metadata": {},
     "output_type": "execute_result"
    }
   ],
   "source": [
    "replacement_strategy_chain.invoke({\"user_input\": \"The screen is broken, I want to replace it.\", \"additional_info\": \"No warranty\"})\n",
    "replacement_parser.invoke(replacement_strategy_chain.invoke({\"user_input\": \"The screen is broken, I want to replace it.\", \"additional_info\": \"No warranty\"}))"
   ]
  },
  {
   "cell_type": "code",
   "execution_count": 12,
   "metadata": {},
   "outputs": [],
   "source": [
    "from utils.plan_selection import plan_selection_prompt, plan_parser\n",
    "\n",
    "plan_evaluater_chain = plan_selection_prompt | langchain_llm"
   ]
  },
  {
   "cell_type": "code",
   "execution_count": 13,
   "metadata": {},
   "outputs": [
    {
     "data": {
      "text/plain": [
       "{'Analysis': 'Your device can be replaced without any additional charge. However, if you prefer to keep your current device, the repair cost is 150 USD. Alternatively, you can get a 100 USD coupon if you want to trade in your old device for a new one, which costs 249 USD. This would make the trade-in option a cost of 149 USD.',\n",
       " 'Cost': 'Free',\n",
       " 'Plan': 'Replace',\n",
       " 'Utterance': 'Your device is eligible for a free replacement. If you prefer to keep your current device, the repair cost is 150 USD. Alternatively, you can trade in your old device for a new one and receive a 100 USD coupon, making the total cost for a new device 149 USD. Please let us know which option you would prefer.'}"
      ]
     },
     "execution_count": 13,
     "metadata": {},
     "output_type": "execute_result"
    }
   ],
   "source": [
    "plan_evaluater_chain.invoke(\n",
    "    {\n",
    "        \"replace_plan\": \"I'm sorry, but you cannot get a replacement. Only products with warranty can be replaced.\",\n",
    "        \"repair_plan\": \"The total cost to fix the product is 150 USD.\",\n",
    "        \"tradein_plan\": \"You can get a 100 USD coupon if you want to trade in your old device for a new one.\",\n",
    "        \"user_preference\": \"None\",\n",
    "        \"selected_plan\": \"repair\",\n",
    "        \"ai_analysis\": \"Let's thing step by step. The cost for a new device is 249 USD, the user can get a coupon so he will spend 149 USD for the new device. The cost for fixing the old device is 150 USD. Therefore, it is better to buy a new device as the cost is almost the same.\",\n",
    "        \"ai_response\": \"Maybe you should consider buying a new device instead of fixing the old one. The cost for fixing the old device is 150 USD, and the cost for a new device is 249 USD. You can get a 100 USD coupon if you want to trade in your old device for a new one. The total cost to fix the product is 150 USD.\",\n",
    "    }\n",
    ")\n",
    "plan_parser.invoke(\n",
    "    plan_evaluater_chain.invoke(\n",
    "        {\n",
    "            \"replace_plan\": \"Your device can be replaced.\",\n",
    "            \"repair_plan\": \"The total cost to fix the product is 150 USD.\",\n",
    "            \"tradein_plan\": \"You can get a 100 USD coupon if you want to trade in your old device for a new one.\",\n",
    "            \"user_preference\": \"None\",\n",
    "        }\n",
    "    )\n",
    ")"
   ]
  },
  {
   "cell_type": "code",
   "execution_count": 14,
   "metadata": {},
   "outputs": [
    {
     "data": {
      "text/plain": [
       "{'Analysis': \"Let's think step by step. The product cannot be replaced without additional charge. For repair, the cost for fixing the old device is 120 USD. For Trade-in, the cost for a new device is 249 USD, and the user can get a 50 USD coupon. So the user will spend 199 USD for the new device. Therefore, it is better to repair the old device as it is more cost-effective.\",\n",
       " 'Cost': '120 USD',\n",
       " 'Plan': 'Repair',\n",
       " 'Utterance': \"It would be more cost-effective to repair your current device. The cost for fixing it is 120 USD, whereas if you opt for a trade-in, you would still need to spend 199 USD for a new device after applying the 50 USD coupon. Let us know if you'd like to proceed with the repair.\"}"
      ]
     },
     "execution_count": 14,
     "metadata": {},
     "output_type": "execute_result"
    }
   ],
   "source": [
    "from langchain_core.runnables import RunnableParallel\n",
    "\n",
    "# The tot structure\n",
    "repair_strategy_chain = repair_strategy_prompt | langchain_llm | repair_parser\n",
    "replacement_strategy_chain = (\n",
    "    replacement_strategy_prompt | langchain_llm | replacement_parser\n",
    ")\n",
    "tradein_strategy_chain = tradein_strategy_prompt | langchain_llm | tradein_parser\n",
    "\n",
    "tot_generater = RunnableParallel(repair_plan = repair_strategy_chain, replace_plan = replacement_strategy_chain, tradein_plan = tradein_strategy_chain)\n",
    "\n",
    "plan_output = tot_generater.invoke({\n",
    "    \"user_input\": \"The screen is broken, I want to replace it.\",\n",
    "    \"additional_info\": \"No warranty\"\n",
    "})\n",
    "\n",
    "tot_scorer = plan_selection_prompt | langchain_llm | plan_parser\n",
    "\n",
    "tot_scorer.invoke({\n",
    "    \"replace_plan\": plan_output[\"replace_plan\"][\"Utterance\"],\n",
    "    \"repair_plan\": plan_output[\"repair_plan\"][\"Utterance\"],\n",
    "    \"tradein_plan\": plan_output[\"tradein_plan\"][\"Utterance\"],\n",
    "    \"user_preference\": \"None\",\n",
    "})"
   ]
  },
  {
   "cell_type": "code",
   "execution_count": 15,
   "metadata": {},
   "outputs": [],
   "source": [
    "## GoT structure\n",
    "### Break down the repair plan\n"
   ]
  }
 ],
 "metadata": {
  "kernelspec": {
   "display_name": "xot_tutorial",
   "language": "python",
   "name": "python3"
  },
  "language_info": {
   "codemirror_mode": {
    "name": "ipython",
    "version": 3
   },
   "file_extension": ".py",
   "mimetype": "text/x-python",
   "name": "python",
   "nbconvert_exporter": "python",
   "pygments_lexer": "ipython3",
   "version": "3.12.3"
  }
 },
 "nbformat": 4,
 "nbformat_minor": 2
}
